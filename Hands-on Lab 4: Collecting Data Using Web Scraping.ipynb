{
    "cells": [
        {
            "cell_type": "markdown",
            "metadata": {},
            "source": "<center>\n    <img src=\"https://gitlab.com/ibm/skills-network/courses/placeholder101/-/raw/master/labs/module%201/images/IDSNlogo.png\" width=\"300\" alt=\"cognitiveclass.ai logo\"  />\n</center>\n"
        },
        {
            "cell_type": "markdown",
            "metadata": {},
            "source": "# **Hands-on Lab : Web Scraping**\n"
        },
        {
            "cell_type": "markdown",
            "metadata": {},
            "source": "Estimated time needed: **30 to 45** minutes\n"
        },
        {
            "cell_type": "markdown",
            "metadata": {},
            "source": "## Objectives\n"
        },
        {
            "cell_type": "markdown",
            "metadata": {},
            "source": "In this lab you will perform the following:\n"
        },
        {
            "cell_type": "markdown",
            "metadata": {},
            "source": "*   Extract information from a given web site\n*   Write the scraped data into a csv file.\n"
        },
        {
            "cell_type": "markdown",
            "metadata": {},
            "source": "## Extract information from the given web site\n\nYou will extract the data from the below web site: <br>\n"
        },
        {
            "cell_type": "code",
            "execution_count": 1,
            "metadata": {},
            "outputs": [],
            "source": "#this url contains the data you need to scrape\nurl = \"https://cf-courses-data.s3.us.cloud-object-storage.appdomain.cloud/IBM-DA0321EN-SkillsNetwork/labs/datasets/Programming_Languages.html\""
        },
        {
            "cell_type": "markdown",
            "metadata": {},
            "source": "The data you need to scrape is the **name of the programming language** and **average annual salary**.<br> It is a good idea to open the url in your web broswer and study the contents of the web page before you start to scrape.\n"
        },
        {
            "cell_type": "markdown",
            "metadata": {},
            "source": "Import the required libraries\n"
        },
        {
            "cell_type": "code",
            "execution_count": 29,
            "metadata": {},
            "outputs": [],
            "source": "from bs4 import BeautifulSoup\nimport requests\nimport pandas as pd\nimport csv"
        },
        {
            "cell_type": "markdown",
            "metadata": {},
            "source": "Download the webpage at the url\n"
        },
        {
            "cell_type": "code",
            "execution_count": 6,
            "metadata": {},
            "outputs": [],
            "source": "url = \"https://cf-courses-data.s3.us.cloud-object-storage.appdomain.cloud/IBM-DA0321EN-SkillsNetwork/labs/datasets/Programming_Languages.html\"\n\ndata = requests.get(url).text\n"
        },
        {
            "cell_type": "markdown",
            "metadata": {},
            "source": "Create a soup object\n"
        },
        {
            "cell_type": "code",
            "execution_count": 7,
            "metadata": {},
            "outputs": [],
            "source": "soup = BeautifulSoup(data, 'html5lib')"
        },
        {
            "cell_type": "markdown",
            "metadata": {},
            "source": "Scrape the `Language name` and `annual average salary`.\n"
        },
        {
            "cell_type": "code",
            "execution_count": 25,
            "metadata": {},
            "outputs": [],
            "source": "table = soup.find('table')\n"
        },
        {
            "cell_type": "code",
            "execution_count": 38,
            "metadata": {},
            "outputs": [
                {
                    "name": "stdout",
                    "output_type": "stream",
                    "text": "Language,Average Annual Salary\nPython,$114,383\nJava,$101,013\nR,$92,037\nJavascript,$110,981\nSwift,$130,801\nC++,$113,865\nC#,$88,726\nPHP,$84,727\nSQL,$84,793\nGo,$94,082\n"
                }
            ],
            "source": "for row in table.find_all('tr'):\n    cols = row.find_all('td') \n    language = cols[1].getText()\n    salary = cols[3].getText() \n    print(\"{},{}\".format(language,salary))"
        },
        {
            "cell_type": "markdown",
            "metadata": {},
            "source": "Save the scrapped data into a file named *popular-languages.csv*\n"
        },
        {
            "cell_type": "code",
            "execution_count": 41,
            "metadata": {},
            "outputs": [
                {
                    "data": {
                        "text/html": "<div>\n<style scoped>\n    .dataframe tbody tr th:only-of-type {\n        vertical-align: middle;\n    }\n\n    .dataframe tbody tr th {\n        vertical-align: top;\n    }\n\n    .dataframe thead th {\n        text-align: right;\n    }\n</style>\n<table border=\"1\" class=\"dataframe\">\n  <thead>\n    <tr style=\"text-align: right;\">\n      <th></th>\n      <th>c1</th>\n      <th>language</th>\n      <th>c3</th>\n      <th>salary</th>\n      <th>c5</th>\n    </tr>\n  </thead>\n  <tbody>\n    <tr>\n      <th>0</th>\n      <td>No.</td>\n      <td>Language</td>\n      <td>Created By</td>\n      <td>Average Annual Salary</td>\n      <td>Learning Difficulty</td>\n    </tr>\n    <tr>\n      <th>1</th>\n      <td>1</td>\n      <td>Python</td>\n      <td>Guido van Rossum</td>\n      <td>$114,383</td>\n      <td>Easy</td>\n    </tr>\n    <tr>\n      <th>2</th>\n      <td>2</td>\n      <td>Java</td>\n      <td>James Gosling</td>\n      <td>$101,013</td>\n      <td>Easy</td>\n    </tr>\n    <tr>\n      <th>3</th>\n      <td>3</td>\n      <td>R</td>\n      <td>Robert Gentleman, Ross Ihaka</td>\n      <td>$92,037</td>\n      <td>Hard</td>\n    </tr>\n    <tr>\n      <th>4</th>\n      <td>4</td>\n      <td>Javascript</td>\n      <td>Netscape</td>\n      <td>$110,981</td>\n      <td>Easy</td>\n    </tr>\n    <tr>\n      <th>5</th>\n      <td>5</td>\n      <td>Swift</td>\n      <td>Apple</td>\n      <td>$130,801</td>\n      <td>Easy</td>\n    </tr>\n    <tr>\n      <th>6</th>\n      <td>6</td>\n      <td>C++</td>\n      <td>Bjarne Stroustrup</td>\n      <td>$113,865</td>\n      <td>Hard</td>\n    </tr>\n    <tr>\n      <th>7</th>\n      <td>7</td>\n      <td>C#</td>\n      <td>Microsoft</td>\n      <td>$88,726</td>\n      <td>Hard</td>\n    </tr>\n    <tr>\n      <th>8</th>\n      <td>8</td>\n      <td>PHP</td>\n      <td>Rasmus Lerdorf</td>\n      <td>$84,727</td>\n      <td>Easy</td>\n    </tr>\n    <tr>\n      <th>9</th>\n      <td>9</td>\n      <td>SQL</td>\n      <td>Donald D. Chamberlin, Raymond F. Boyce.</td>\n      <td>$84,793</td>\n      <td>Easy</td>\n    </tr>\n    <tr>\n      <th>10</th>\n      <td>10</td>\n      <td>Go</td>\n      <td>Robert Griesemer, Ken Thompson, Rob Pike.</td>\n      <td>$94,082</td>\n      <td>Difficult</td>\n    </tr>\n  </tbody>\n</table>\n</div>",
                        "text/plain": "     c1    language                                         c3  \\\n0   No.    Language                                 Created By   \n1     1      Python                           Guido van Rossum   \n2     2        Java                              James Gosling   \n3     3           R               Robert Gentleman, Ross Ihaka   \n4     4  Javascript                                   Netscape   \n5     5       Swift                                      Apple   \n6     6         C++                          Bjarne Stroustrup   \n7     7          C#                                  Microsoft   \n8     8         PHP                             Rasmus Lerdorf   \n9     9         SQL    Donald D. Chamberlin, Raymond F. Boyce.   \n10   10          Go  Robert Griesemer, Ken Thompson, Rob Pike.   \n\n                   salary                   c5  \n0   Average Annual Salary  Learning Difficulty  \n1                $114,383                 Easy  \n2                $101,013                 Easy  \n3                 $92,037                 Hard  \n4                $110,981                 Easy  \n5                $130,801                 Easy  \n6                $113,865                 Hard  \n7                 $88,726                 Hard  \n8                 $84,727                 Easy  \n9                 $84,793                 Easy  \n10                $94,082            Difficult  "
                    },
                    "execution_count": 41,
                    "metadata": {},
                    "output_type": "execute_result"
                }
            ],
            "source": "table_rows = table.find_all('tr')\nl = []\nfor tr in table_rows:\n    td = tr.find_all('td')\n    row = [tr.text for tr in td]\n    l.append(row)\ndf=pd.DataFrame(l, columns=[\"c1\",\"language\",\"c3\",\"salary\",\"c5\"])\ndf\n"
        },
        {
            "cell_type": "code",
            "execution_count": 33,
            "metadata": {
                "scrolled": true
            },
            "outputs": [
                {
                    "data": {
                        "text/html": "<div>\n<style scoped>\n    .dataframe tbody tr th:only-of-type {\n        vertical-align: middle;\n    }\n\n    .dataframe tbody tr th {\n        vertical-align: top;\n    }\n\n    .dataframe thead th {\n        text-align: right;\n    }\n</style>\n<table border=\"1\" class=\"dataframe\">\n  <thead>\n    <tr style=\"text-align: right;\">\n      <th></th>\n      <th>language</th>\n      <th>salary</th>\n    </tr>\n  </thead>\n  <tbody>\n    <tr>\n      <th>0</th>\n      <td>Language</td>\n      <td>Average Annual Salary</td>\n    </tr>\n    <tr>\n      <th>1</th>\n      <td>Python</td>\n      <td>$114,383</td>\n    </tr>\n    <tr>\n      <th>2</th>\n      <td>Java</td>\n      <td>$101,013</td>\n    </tr>\n    <tr>\n      <th>3</th>\n      <td>R</td>\n      <td>$92,037</td>\n    </tr>\n    <tr>\n      <th>4</th>\n      <td>Javascript</td>\n      <td>$110,981</td>\n    </tr>\n    <tr>\n      <th>5</th>\n      <td>Swift</td>\n      <td>$130,801</td>\n    </tr>\n    <tr>\n      <th>6</th>\n      <td>C++</td>\n      <td>$113,865</td>\n    </tr>\n    <tr>\n      <th>7</th>\n      <td>C#</td>\n      <td>$88,726</td>\n    </tr>\n    <tr>\n      <th>8</th>\n      <td>PHP</td>\n      <td>$84,727</td>\n    </tr>\n    <tr>\n      <th>9</th>\n      <td>SQL</td>\n      <td>$84,793</td>\n    </tr>\n    <tr>\n      <th>10</th>\n      <td>Go</td>\n      <td>$94,082</td>\n    </tr>\n  </tbody>\n</table>\n</div>",
                        "text/plain": "      language                 salary\n0     Language  Average Annual Salary\n1       Python               $114,383\n2         Java               $101,013\n3            R                $92,037\n4   Javascript               $110,981\n5        Swift               $130,801\n6          C++               $113,865\n7           C#                $88,726\n8          PHP                $84,727\n9          SQL                $84,793\n10          Go                $94,082"
                    },
                    "execution_count": 33,
                    "metadata": {},
                    "output_type": "execute_result"
                }
            ],
            "source": "df.drop(columns = [\"c1\",\"c3\",\"c5\"], inplace = True)\ndf"
        },
        {
            "cell_type": "code",
            "execution_count": 42,
            "metadata": {},
            "outputs": [],
            "source": "df.to_csv(\"popular-languages.csv\")"
        },
        {
            "cell_type": "markdown",
            "metadata": {},
            "source": "To save the data to your Watson Studio you will first need to create a token for this lab. You will also need to locate your project ID from the url in you notebook.  "
        },
        {
            "cell_type": "code",
            "execution_count": 49,
            "metadata": {
                "scrolled": true
            },
            "outputs": [
                {
                    "name": "stderr",
                    "output_type": "stream",
                    "text": "File 'popular-languages.csv' already exists in storage.\n\n2021-12-01 16:57:47,935 - __PROJECT_LIB__ - ERROR - File 'popular-languages.csv' already exists in storage.\nRuntimeError: File 'popular-languages.csv' already exists in storage.\n"
                },
                {
                    "ename": "RuntimeError",
                    "evalue": "File 'popular-languages.csv' already exists in storage.",
                    "output_type": "error",
                    "traceback": [
                        "\u001b[0;31m---------------------------------------------------------------------------\u001b[0m",
                        "\u001b[0;31mRuntimeError\u001b[0m                              Traceback (most recent call last)",
                        "\u001b[0;32m/tmp/wsuser/ipykernel_155/1901103227.py\u001b[0m in \u001b[0;36m<module>\u001b[0;34m\u001b[0m\n\u001b[1;32m      1\u001b[0m \u001b[0;32mfrom\u001b[0m \u001b[0mproject_lib\u001b[0m \u001b[0;32mimport\u001b[0m \u001b[0mProject\u001b[0m\u001b[0;34m\u001b[0m\u001b[0;34m\u001b[0m\u001b[0m\n\u001b[1;32m      2\u001b[0m \u001b[0mproject\u001b[0m \u001b[0;34m=\u001b[0m \u001b[0mProject\u001b[0m\u001b[0;34m(\u001b[0m\u001b[0;32mNone\u001b[0m\u001b[0;34m,\u001b[0m\u001b[0;34m\"23e5f260-8bba-43d0-8fa3-51b63d98aa9f\"\u001b[0m\u001b[0;34m,\u001b[0m\u001b[0;34m\"p-7b5b9ac11e6f2be067665d0e7b9bedf8c51f0a1c\"\u001b[0m\u001b[0;34m)\u001b[0m\u001b[0;34m\u001b[0m\u001b[0;34m\u001b[0m\u001b[0m\n\u001b[0;32m----> 3\u001b[0;31m \u001b[0mproject\u001b[0m\u001b[0;34m.\u001b[0m\u001b[0msave_data\u001b[0m\u001b[0;34m(\u001b[0m\u001b[0mfile_name\u001b[0m \u001b[0;34m=\u001b[0m \u001b[0;34m\"popular-languages.csv\"\u001b[0m\u001b[0;34m,\u001b[0m\u001b[0mdata\u001b[0m \u001b[0;34m=\u001b[0m \u001b[0mdf\u001b[0m\u001b[0;34m.\u001b[0m\u001b[0mto_csv\u001b[0m\u001b[0;34m(\u001b[0m\u001b[0mindex\u001b[0m\u001b[0;34m=\u001b[0m\u001b[0;32mFalse\u001b[0m\u001b[0;34m)\u001b[0m\u001b[0;34m)\u001b[0m\u001b[0;34m\u001b[0m\u001b[0;34m\u001b[0m\u001b[0m\n\u001b[0m",
                        "\u001b[0;32m/opt/conda/envs/Python-3.8-main/lib/python3.8/site-packages/project_lib/project.py\u001b[0m in \u001b[0;36msave_data\u001b[0;34m(self, file_name, data, set_project_asset, overwrite, direct_storage)\u001b[0m\n\u001b[1;32m    274\u001b[0m             \u001b[0mexists_in_os\u001b[0m \u001b[0;34m=\u001b[0m \u001b[0mself\u001b[0m\u001b[0;34m.\u001b[0m\u001b[0m_core\u001b[0m\u001b[0;34m.\u001b[0m\u001b[0mfile_exists_in_storage\u001b[0m\u001b[0;34m(\u001b[0m\u001b[0mfile_name\u001b[0m\u001b[0;34m)\u001b[0m\u001b[0;34m\u001b[0m\u001b[0;34m\u001b[0m\u001b[0m\n\u001b[1;32m    275\u001b[0m             \u001b[0;32mif\u001b[0m \u001b[0mexists_in_os\u001b[0m\u001b[0;34m:\u001b[0m\u001b[0;34m\u001b[0m\u001b[0;34m\u001b[0m\u001b[0m\n\u001b[0;32m--> 276\u001b[0;31m                 raise exception(\n\u001b[0m\u001b[1;32m    277\u001b[0m                     \"File '{}' already exists in storage.\".format(file_name))\n\u001b[1;32m    278\u001b[0m \u001b[0;34m\u001b[0m\u001b[0m\n",
                        "\u001b[0;31mRuntimeError\u001b[0m: File 'popular-languages.csv' already exists in storage."
                    ]
                }
            ],
            "source": "from project_lib import Project\nproject = Project(None,\"Project-ID\",\"Token-ID\")\nproject.save_data(file_name = \"popular-languages.csv\",data = df.to_csv(index=False))"
        },
        {
            "cell_type": "markdown",
            "metadata": {},
            "source": "## Authors\n"
        },
        {
            "cell_type": "markdown",
            "metadata": {},
            "source": "Ramesh Sannareddy\n"
        },
        {
            "cell_type": "markdown",
            "metadata": {},
            "source": "### Other Contributors\n"
        },
        {
            "cell_type": "markdown",
            "metadata": {},
            "source": "Rav Ahuja\n"
        },
        {
            "cell_type": "markdown",
            "metadata": {},
            "source": "## Change Log\n"
        },
        {
            "cell_type": "markdown",
            "metadata": {},
            "source": "| Date (YYYY-MM-DD) | Version | Changed By        | Change Description                 |\n| ----------------- | ------- | ----------------- | ---------------------------------- |\n| 2020-10-17        | 0.1     | Ramesh Sannareddy | Created initial version of the lab |\n"
        },
        {
            "cell_type": "markdown",
            "metadata": {},
            "source": "Copyright \u00a9 2020 IBM Corporation. This notebook and its source code are released under the terms of the [MIT License](https://cognitiveclass.ai/mit-license/?utm_medium=Exinfluencer&utm_source=Exinfluencer&utm_content=000026UJ&utm_term=10006555&utm_id=NA-SkillsNetwork-Channel-SkillsNetworkCoursesIBMDA0321ENSkillsNetwork21426264-2021-01-01).\n"
        }
    ],
    "metadata": {
        "kernelspec": {
            "display_name": "Python 3.8",
            "language": "python",
            "name": "python3"
        },
        "language_info": {
            "codemirror_mode": {
                "name": "ipython",
                "version": 3
            },
            "file_extension": ".py",
            "mimetype": "text/x-python",
            "name": "python",
            "nbconvert_exporter": "python",
            "pygments_lexer": "ipython3",
            "version": "3.8.12"
        }
    },
    "nbformat": 4,
    "nbformat_minor": 4
}